from agent import DQNAgent
from train import train
from utils import render_board
from env import MinesweeperEnv
import matplotlib.pyplot as plt
import asyncio

agent = DQNAgent()
history = await train(agent, episodes=200)

# Plot
plt.plot(history)
plt.xlabel("Episode")
plt.ylabel("Avg Reward")
plt.title("Training Progress")
plt.show()

# Play with trained agent
env = MinesweeperEnv()
s = env.reset()
done = False
while not done:
    a = agent.select(s)
    s, _, done = env.step(a)
    render_board(s)
